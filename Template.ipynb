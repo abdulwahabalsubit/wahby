{
 "cells": [
  {
   "cell_type": "markdown",
   "id": "3d140e7b",
   "metadata": {},
   "source": [
    "<style>\n",
    "    contener{\n",
    "    }\n",
    "    info{\n",
    "    /* text-align: center;*/\n",
    "    \n",
    "    }\n",
    "    dr_mariam{\n",
    "    background-color:gray;\n",
    "    }\n",
    "    span {\n",
    "    display: block;\n",
    "    }\n",
    "</style>\n",
    "<div style=\"height: 200px; width: 50%; background-color: powderblue;\">    \n",
    "    <div style=\"color: green;\">\n",
    "        <p>Info</p>\n",
    "    </div>    \n",
    "    <div styel=\"background-color:gray;\">\n",
    "        <p>Maiam</p>\n",
    "    </div>    \n",
    "</div>"
   ]
  },
  {
   "cell_type": "markdown",
   "id": "7066c7af",
   "metadata": {},
   "source": [
    "## # Setp 0: Import Libraries"
   ]
  },
  {
   "cell_type": "code",
   "execution_count": null,
   "id": "aa9874a0",
   "metadata": {},
   "outputs": [],
   "source": [
    "import pandas as pd\n",
    "import numpy as np\n"
   ]
  },
  {
   "cell_type": "markdown",
   "id": "96d05b81",
   "metadata": {},
   "source": [
    "## # setp 1: Load Dataset\n",
    "df = pd.read_csv(<font color=\"red\">'file_Name.csv'</font>)\n"
   ]
  },
  {
   "cell_type": "code",
   "execution_count": null,
   "id": "c8515540",
   "metadata": {},
   "outputs": [],
   "source": []
  },
  {
   "cell_type": "markdown",
   "id": "e50864dd",
   "metadata": {},
   "source": [
    "## # Setp 2: Claen Dataset\n"
   ]
  },
  {
   "cell_type": "markdown",
   "id": "c78a674a",
   "metadata": {},
   "source": [
    "#####          A. Columns\n",
    "<ul>\n",
    "    <li>Remove space in <font color=\"red\">Column_name</font></li>\n",
    "    <ul>\n",
    "        <li>df.columns = df.columns.str.replace(<font color=\"red\"> 'old'</font>, <font color=\"green\">'new' </font>)</li>\n",
    "        <li>df.columns = df.columns.str.replace( ' ', '_' )</li>\n",
    "        <li>df.columns</li>\n",
    "    </ul>    \n",
    "        <li>Rename Columns</li>\n",
    "    <ul>\n",
    "        <li>df = df.rename( columns = {\n",
    "            <font color=\"red\"> 'old_col'</font>, \n",
    "            <font color=\"green\"> 'new_col' </font> }\n",
    "        </li>\n",
    "        <li>df = df.rename( columns = {\n",
    "            <font color=\"red\"> 'old_col'</font>, \n",
    "            <font color=\"green\"> 'new_col' </font>,\n",
    "             <font color=\"red\"> 'old_col'</font>, \n",
    "            <font color=\"green\"> 'new_col' </font>, .....}\n",
    "        </li>\n",
    "    </ul>\n",
    "     <li>Remove capital</li>\n",
    "    <ul>\n",
    "        <li></li>\n",
    "    </ul>\n",
    "        <li>Check the Data type</li>\n",
    "    <ul>\n",
    "        <li></li>\n",
    "    </ul>\n",
    "        <li></li>\n",
    "    <ul>\n",
    "        <li></li>\n",
    "    </ul>\n",
    "        <li></li>\n",
    "    <ul>\n",
    "        <li></li>\n",
    "    </ul>\n",
    "        <li></li>\n",
    "    <ul>\n",
    "        <li></li>\n",
    "    </ul>\n",
    "    \n",
    "</ul>\n",
    "    "
   ]
  },
  {
   "cell_type": "code",
   "execution_count": null,
   "id": "5945199a",
   "metadata": {},
   "outputs": [],
   "source": []
  },
  {
   "cell_type": "code",
   "execution_count": null,
   "id": "aaf79de5",
   "metadata": {},
   "outputs": [],
   "source": []
  },
  {
   "cell_type": "code",
   "execution_count": null,
   "id": "fd3a4808",
   "metadata": {},
   "outputs": [],
   "source": []
  },
  {
   "cell_type": "markdown",
   "id": "072959e1",
   "metadata": {},
   "source": [
    "####          2.2: Row"
   ]
  },
  {
   "cell_type": "code",
   "execution_count": null,
   "id": "a37d90a8",
   "metadata": {},
   "outputs": [],
   "source": []
  },
  {
   "cell_type": "code",
   "execution_count": null,
   "id": "1ba6ad2e",
   "metadata": {},
   "outputs": [],
   "source": []
  },
  {
   "cell_type": "markdown",
   "id": "e7bc0419",
   "metadata": {},
   "source": [
    "# # Step 3: EDA"
   ]
  },
  {
   "cell_type": "code",
   "execution_count": null,
   "id": "b3fc1b88",
   "metadata": {},
   "outputs": [],
   "source": []
  },
  {
   "cell_type": "code",
   "execution_count": null,
   "id": "ce8970fd",
   "metadata": {},
   "outputs": [],
   "source": []
  },
  {
   "cell_type": "markdown",
   "id": "1707db3d",
   "metadata": {},
   "source": [
    "# # Step 4: Model"
   ]
  },
  {
   "cell_type": "code",
   "execution_count": null,
   "id": "52deb756",
   "metadata": {},
   "outputs": [],
   "source": []
  },
  {
   "cell_type": "code",
   "execution_count": null,
   "id": "92d6fd81",
   "metadata": {},
   "outputs": [],
   "source": []
  },
  {
   "cell_type": "markdown",
   "id": "63c89a10",
   "metadata": {},
   "source": [
    "# # Step 5: Conclusion"
   ]
  }
 ],
 "metadata": {
  "kernelspec": {
   "display_name": "Python 3 (ipykernel)",
   "language": "python",
   "name": "python3"
  },
  "language_info": {
   "codemirror_mode": {
    "name": "ipython",
    "version": 3
   },
   "file_extension": ".py",
   "mimetype": "text/x-python",
   "name": "python",
   "nbconvert_exporter": "python",
   "pygments_lexer": "ipython3",
   "version": "3.9.7"
  }
 },
 "nbformat": 4,
 "nbformat_minor": 5
}
