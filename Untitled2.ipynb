{
 "cells": [
  {
   "cell_type": "markdown",
   "id": "7fa5cf49",
   "metadata": {},
   "source": [
    "<div class=\"contener1\" style=\"height: 200px; width: 50%; background-color: powderblue;\">\n",
    "    <div class=\"info\">\n",
    "        <p style=\"color:green;\">Info</p>\n",
    "    </div>\n",
    "    <div class=\"dr_mariam\">\n",
    "        <p>Maiam</p>\n",
    "    </div>\n",
    "    \n",
    "</div>\n",
    "<ul><li>\n",
    "<font color=\"red\">test</font>\n",
    "    </li></ul>"
   ]
  }
 ],
 "metadata": {
  "kernelspec": {
   "display_name": "Python 3 (ipykernel)",
   "language": "python",
   "name": "python3"
  },
  "language_info": {
   "codemirror_mode": {
    "name": "ipython",
    "version": 3
   },
   "file_extension": ".py",
   "mimetype": "text/x-python",
   "name": "python",
   "nbconvert_exporter": "python",
   "pygments_lexer": "ipython3",
   "version": "3.9.7"
  }
 },
 "nbformat": 4,
 "nbformat_minor": 5
}
